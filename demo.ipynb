{
 "cells": [
  {
   "cell_type": "markdown",
   "metadata": {},
   "source": [
    "# 工具包ChenxiLexicalAnalysis功能展示\n",
    "## 运行环境\n",
    "### numpy 1.18.5\n",
    "\n",
    "### CRFPP\n",
    "\n",
    "### matplotlib 3.2.2\n",
    "\n",
    "### sklearn.metrics"
   ]
  },
  {
   "cell_type": "markdown",
   "metadata": {},
   "source": [
    "## 零、模块导入"
   ]
  },
  {
   "cell_type": "code",
   "execution_count": 7,
   "metadata": {},
   "outputs": [],
   "source": [
    "from NER import NER, BatchNER, DemoCRFNER, DemoHMMNER\n",
    "from Pos import Tagging, BatchTagging, PosTagDemo\n",
    "from Seg import DictSegment, StatisticSegment, BatchSeg, DemoSeg"
   ]
  },
  {
   "cell_type": "markdown",
   "metadata": {},
   "source": [
    "## 一、分词\n",
    "使用了HMM,N-最短路，随机化N-最短路以及逆向最大匹配等四种分词算法"
   ]
  },
  {
   "cell_type": "markdown",
   "metadata": {},
   "source": [
    "### 1.1 单句分词调用接口\n",
    "输入一个字符串，打印分词结果"
   ]
  },
  {
   "cell_type": "code",
   "execution_count": 8,
   "metadata": {},
   "outputs": [],
   "source": [
    "s='于是我们奋力前进,却如同逆水行舟,注定要不断地退回过去。'"
   ]
  },
  {
   "cell_type": "code",
   "execution_count": 9,
   "metadata": {},
   "outputs": [
    {
     "name": "stdout",
     "output_type": "stream",
     "text": [
      "于是 我们 奋力 前进 , 却 如同 逆水行舟 , 注定 要 不断 地 退回 过去 。 \n",
      "于是 我们 奋力 前进 , 却 如同 逆水行舟 , 注定 要 不断 地 退回 过去 。 \n",
      "于是 我们 奋力 前进 , 却 如同 逆水行舟 , 注定 要 不断 地 退回 过去 。 \n",
      "于 是 我们 奋力 前 进, 却 如同 逆水 行舟 , 注定 要 不断 地退 回过 去 。 \n"
     ]
    }
   ],
   "source": [
    "#基于辞典的方法\n",
    "#反向最大匹配\n",
    "print(DictSegment(s,mode='RMM'))\n",
    "\n",
    "#N-最短路分词\n",
    "print(DictSegment(s,mode='DAG'))\n",
    "\n",
    "#N-最短路分词(随机回溯路径)\n",
    "print(DictSegment(s,mode='RDAG'))\n",
    "\n",
    "#基于统计的方法\n",
    "#隐马尔可夫分词\n",
    "print(StatisticSegment(s))"
   ]
  },
  {
   "cell_type": "markdown",
   "metadata": {},
   "source": [
    "### 1.2 批量分词调用接口\n",
    "\n",
    "输入一个文本文件，输出分词结果，保存在txt文件中\n",
    "\n",
    "分词结果请在路径./result/Seg文件夹下的相关文件中查看"
   ]
  },
  {
   "cell_type": "code",
   "execution_count": 10,
   "metadata": {},
   "outputs": [],
   "source": [
    "#原始文本文件所在路径\n",
    "inpath='./corpus/segment/test5_SEG+POSTAG.txt'"
   ]
  },
  {
   "cell_type": "code",
   "execution_count": 11,
   "metadata": {},
   "outputs": [
    {
     "name": "stdout",
     "output_type": "stream",
     "text": [
      "Using HMM\n",
      "Training complete in 0m 2s\n",
      "segment speed is 257.1079779823241 kb/s\n",
      "Using DAG\n",
      "Training complete in 0m 2s\n",
      "segment speed is 208.87647442638806 kb/s\n",
      "Using SDAG\n",
      "Training complete in 0m 3s\n",
      "segment speed is 202.9100693401948 kb/s\n",
      "Using HMM\n",
      "Training complete in 0m 2s\n",
      "segment speed is 254.8305414489906 kb/s\n"
     ]
    }
   ],
   "source": [
    "outpath='./result/Seg/HMMSegResult.txt'\n",
    "BatchSeg(mode='HMM',path=inpath,outpath=outpath)\n",
    "\n",
    "outpath='./result/Seg/DAGSegResult.txt'\n",
    "BatchSeg(mode='DAG',path=inpath,outpath=outpath)\n",
    "                 \n",
    "outpath='./result/Seg/RDAGSegResult.txt'\n",
    "BatchSeg(mode='RDAG',path=inpath,outpath=outpath)\n",
    "\n",
    "outpath='./result/Seg/HMMSegResult.txt'\n",
    "BatchSeg(mode='HMM',path=inpath,outpath=outpath)"
   ]
  },
  {
   "cell_type": "markdown",
   "metadata": {},
   "source": [
    "### 1.3 分词算法性能测评\n",
    "以下分别展示本项目所实现的4种分词方法：\n",
    "\n",
    "HMM,N-最短路，随机化N-最短路以及逆向最大匹配的性能\n",
    "\n",
    "默认测评文本文件为corpus/segment/test5_SEG+POSTAG.txt，大小519kb\n",
    "\n",
    "内容来自人民日报语料库的后4296行"
   ]
  },
  {
   "cell_type": "code",
   "execution_count": 12,
   "metadata": {},
   "outputs": [
    {
     "name": "stdout",
     "output_type": "stream",
     "text": [
      "Using HMM\n",
      "Training complete in 0m 3s\n",
      "segment speed is 203.43079548364307 kb/s\n",
      "Precision=80.39258102744493,Recall=80.55547701848134,F1=80.47394658921334,OOVRecall=52.351331176909675,IVRecall=81.66581772588356\n",
      "\n",
      "Using DAG\n",
      "Training complete in 0m 2s\n",
      "segment speed is 223.72384761102927 kb/s\n",
      "Precision=89.98014163817884,Recall=93.51974893268115,F1=91.71580679150415,OOVRecall=2.114953968648918,IVRecall=97.11817255700964\n",
      "\n",
      "Using RandomDAG\n",
      "Training complete in 0m 2s\n",
      "segment speed is 218.73017029019147 kb/s\n",
      "Precision=89.88855741242826,Recall=93.42456199873712,F1=91.62245595874077,OOVRecall=2.114953968648918,IVRecall=97.01923830420813\n",
      "\n",
      "Using RMM\n",
      "Training complete in 0m 1s\n",
      "segment speed is 689.2554481051873 kb/s\n",
      "Precision=89.87574656286536,Recall=93.46037490457746,F1=91.63301701117138,OOVRecall=2.114953968648918,IVRecall=97.05646109239088\n"
     ]
    }
   ],
   "source": [
    "DemoSeg()"
   ]
  },
  {
   "cell_type": "markdown",
   "metadata": {},
   "source": [
    "## 二、词性标注\n",
    "使用了HMM和CRF++两种算法"
   ]
  },
  {
   "cell_type": "markdown",
   "metadata": {},
   "source": [
    "### 2.1 单句标注调用接口\n",
    "输入一个预分词字符串，打印词性标注结果"
   ]
  },
  {
   "cell_type": "code",
   "execution_count": 13,
   "metadata": {},
   "outputs": [],
   "source": [
    "#预分词字符串\n",
    "s='多 年 以后 ， 奥雷连诺 上校 站 在 行刑队 面前 ， 准 会 想起 父亲 带 他 去 参观 冰块 的 那个 遥远 的 下午 。'"
   ]
  },
  {
   "cell_type": "code",
   "execution_count": 14,
   "metadata": {},
   "outputs": [
    {
     "name": "stdout",
     "output_type": "stream",
     "text": [
      "多/m 年/q 以后/f ，/w 奥雷连诺/n 上校/w 站/v 在/p 行刑队/n 面前/f ，/w 准/v 会/v 想起/v 父亲/n 带/v 他/r 去/v 参观/v 冰块/n 的/u 那个/r 遥远/a 的/u 下午/t 。/w \n",
      "多/a 年/q 以后/f ，/w 奥雷连诺/v 上校/n 站/v 在/p 行刑队/n 面前/f ，/w 准/v 会/v 想起/v 父亲/r 带/v 他/r 去/v 参观/v 冰块/v 的/r 那个/u 遥远/a 的/u 下午/n 。/w \n"
     ]
    }
   ],
   "source": [
    "#HMM词性标注\n",
    "print(Tagging(s,mode='HMM'))\n",
    "\n",
    "#CRF词性标注\n",
    "print(Tagging(s,mode='CRF'))"
   ]
  },
  {
   "cell_type": "markdown",
   "metadata": {},
   "source": [
    "### 2.2 批量标注调用接口\n",
    "输入一个文本文件，输出词性标注结果，保存在txt文件中\n",
    "\n",
    "分词结果请在路径./result/PosTag下的相关文件中查看"
   ]
  },
  {
   "cell_type": "code",
   "execution_count": 15,
   "metadata": {},
   "outputs": [],
   "source": [
    "#预分词文本文件所在路径，此处使用逆向最大匹配算法的分词结果\n",
    "inpath = './corpus/segment/RMMSegment.txt'"
   ]
  },
  {
   "cell_type": "code",
   "execution_count": 16,
   "metadata": {},
   "outputs": [],
   "source": [
    "#CRF++词性标注\n",
    "outpath = './result/Pos/CRFPosResult.txt'\n",
    "BatchTagging(mode='CRF',path=inpath,outpath=outpath)"
   ]
  },
  {
   "cell_type": "code",
   "execution_count": 17,
   "metadata": {},
   "outputs": [],
   "source": [
    "#HMM词性标注\n",
    "outpath = './result/Pos/HMMPosResult.txt'\n",
    "BatchTagging(mode='HMM',path=inpath,outpath=outpath)"
   ]
  },
  {
   "cell_type": "markdown",
   "metadata": {},
   "source": [
    "### 2.3 词性标注算法性能测评\n",
    "以下分别展示CRF++和HMM词性标注的性能\n",
    "\n",
    "默认测评文本文件为/corpus/segment/RMMsegment\n",
    "\n",
    "系之前分词模块运行逆向最大匹配算法得到的分词结果，大小626kb"
   ]
  },
  {
   "cell_type": "code",
   "execution_count": 18,
   "metadata": {},
   "outputs": [
    {
     "name": "stdout",
     "output_type": "stream",
     "text": [
      "CRFPosTag complete in 0m 2s\n",
      "CRFPosTag speed is 274.4549887051164 kb/s\n",
      "The whole precision is 80.9759937484917.\n",
      "Tag f:\n",
      "Precision:0.8084808946877913\tRecall:0.8277671755725191\n",
      "Tag z:\n",
      "Precision:0.8020304568527918\tRecall:0.3534675615212528\n",
      "Tag n:\n",
      "Precision:0.8035211554939002\tRecall:0.8444172883972215\n",
      "Tag o:\n",
      "Precision:1.0\tRecall:0.06896551724137931\n",
      "Tag q:\n",
      "Precision:0.8166318719554627\tRecall:0.8880060537268256\n",
      "Tag c:\n",
      "Precision:0.7230818826563508\tRecall:0.8027916964924839\n",
      "Tag ad:\n",
      "Precision:0.7701525054466231\tRecall:0.7803532008830022\n",
      "Tag nx:\n",
      "Precision:0.9506172839506173\tRecall:0.6754385964912281\n",
      "Tag vd:\n",
      "Precision:0.8666666666666667\tRecall:0.5777777777777777\n",
      "Tag u:\n",
      "Precision:0.7976219965320783\tRecall:0.8805031446540881\n",
      "Tag l:\n",
      "Precision:0.9113300492610837\tRecall:0.49377224199288255\n",
      "Tag i:\n",
      "Precision:0.9035019455252918\tRecall:0.5387470997679814\n",
      "Tag p:\n",
      "Precision:0.7469825659365221\tRecall:0.8025936599423631\n",
      "Tag nz:\n",
      "Precision:0.778175313059034\tRecall:0.46178343949044587\n",
      "Tag ns:\n",
      "Precision:0.8744302308484047\tRecall:0.7446781868269472\n",
      "Tag b:\n",
      "Precision:0.7956630525437864\tRecall:0.7156789197299325\n",
      "Tag w:\n",
      "Precision:0.8525525186356449\tRecall:0.9137513618206028\n",
      "Tag nr:\n",
      "Precision:0.8442655935613682\tRecall:0.7443675714032286\n",
      "Tag r:\n",
      "Precision:0.8813381022512098\tRecall:0.860340932429657\n",
      "Tag y:\n",
      "Precision:0.9615384615384616\tRecall:0.9114583333333334\n",
      "Tag h:\n",
      "Precision:1.0\tRecall:0.5\n",
      "Tag an:\n",
      "Precision:0.8577235772357723\tRecall:0.6741214057507987\n",
      "Tag d:\n",
      "Precision:0.7547542978852883\tRecall:0.8115491575331262\n",
      "Tag s:\n",
      "Precision:0.7614285714285715\tRecall:0.635280095351609\n",
      "Tag t:\n",
      "Precision:0.9038776624795194\tRecall:0.8164775530340405\n",
      "Tag v:\n",
      "Precision:0.7425574881115237\tRecall:0.8013638440718479\n",
      "Tag k:\n",
      "Precision:0.7134146341463414\tRecall:0.8357142857142857\n",
      "Tag j:\n",
      "Precision:0.8768161718256475\tRecall:0.7410571276027763\n",
      "Tag m:\n",
      "Precision:0.8797307404637248\tRecall:0.8136413945766464\n",
      "Tag e:\n",
      "Precision:0\tRecall:0.0\n",
      "Tag nt:\n",
      "Precision:0.9426585577758471\tRecall:0.910234899328859\n",
      "Tag a:\n",
      "Precision:0.8408001667013961\tRecall:0.7501394311210262\n",
      "Tag vn:\n",
      "Precision:0.8213403589659147\tRecall:0.7138972377272077\n",
      "HMMPosTag complete in 1m 1s\n",
      "HMMPosTag speed is 10.256105041955442 kb/s\n",
      "The whole precision is 90.69283719647433.\n",
      "Tag f:\n",
      "Precision:0.8656145384983261\tRecall:0.8635496183206107\n",
      "Tag z:\n",
      "Precision:0.9436619718309859\tRecall:0.7494407158836689\n",
      "Tag n:\n",
      "Precision:0.9399225220983242\tRecall:0.9415144498756539\n",
      "Tag o:\n",
      "Precision:1.0\tRecall:0.10344827586206896\n",
      "Tag q:\n",
      "Precision:0.9082326283987915\tRecall:0.9099508134695422\n",
      "Tag c:\n",
      "Precision:0.911000355998576\tRecall:0.9158911954187545\n",
      "Tag ad:\n",
      "Precision:0.8009803921568628\tRecall:0.9017660044150111\n",
      "Tag nx:\n",
      "Precision:0.819672131147541\tRecall:0.43859649122807015\n",
      "Tag vd:\n",
      "Precision:0.625\tRecall:0.5555555555555556\n",
      "Tag u:\n",
      "Precision:0.9731138545953361\tRecall:0.9699207000273449\n",
      "Tag l:\n",
      "Precision:0.9519725557461407\tRecall:0.7406583629893239\n",
      "Tag i:\n",
      "Precision:0.9975609756097561\tRecall:0.7591647331786543\n",
      "Tag p:\n",
      "Precision:0.887330528284245\tRecall:0.9116234390009607\n",
      "Tag nz:\n",
      "Precision:0.7678275290215588\tRecall:0.49150743099787686\n",
      "Tag ns:\n",
      "Precision:0.978742249778565\tRecall:0.8302028549962435\n",
      "Tag b:\n",
      "Precision:0.8389166072701354\tRecall:0.8829707426856714\n",
      "Tag w:\n",
      "Precision:0.9786666666666667\tRecall:0.9995763224791188\n",
      "Tag nr:\n",
      "Precision:0.8182646737149106\tRecall:0.7963455738868193\n",
      "Tag r:\n",
      "Precision:0.9699309223892727\tRecall:0.9804888067364962\n",
      "Tag y:\n",
      "Precision:0.8294930875576036\tRecall:0.9375\n",
      "Tag h:\n",
      "Precision:0.125\tRecall:0.25\n",
      "Tag an:\n",
      "Precision:0.7038327526132404\tRecall:0.645367412140575\n",
      "Tag d:\n",
      "Precision:0.8862923462986199\tRecall:0.9244233600523475\n",
      "Tag s:\n",
      "Precision:0.8004136504653567\tRecall:0.9225268176400476\n",
      "Tag t:\n",
      "Precision:0.9560975609756097\tRecall:0.9669462259496794\n",
      "Tag v:\n",
      "Precision:0.8637981789552954\tRecall:0.8870259060072411\n",
      "Tag k:\n",
      "Precision:0.8098159509202454\tRecall:0.9428571428571428\n",
      "Tag j:\n",
      "Precision:0.7480430528375733\tRecall:0.816337426588361\n",
      "Tag m:\n",
      "Precision:0.9402122799946259\tRecall:0.9681793027116768\n",
      "Tag e:\n",
      "Precision:0.6666666666666666\tRecall:1.0\n",
      "Tag nt:\n",
      "Precision:0.9660314830157415\tRecall:0.9781879194630873\n",
      "Tag a:\n",
      "Precision:0.812331475822398\tRecall:0.8401189812232757\n",
      "Tag vn:\n",
      "Precision:0.7103712837374982\tRecall:0.7420924574209246\n"
     ]
    },
    {
     "name": "stderr",
     "output_type": "stream",
     "text": [
      "E:\\Anaconda3\\lib\\site-packages\\sklearn\\utils\\validation.py:68: FutureWarning: Pass labels=['f', 'z', 'n', 'o', 'q', 'c', 'ad', 'nx', 'vd', 'u', 'l', 'i', 'p', 'nz', 'ns', 'b', 'w', 'nr', 'r', 'y', 'h', 'an', 'd', 's', 't', 'v', 'k', 'j', 'm', 'e', 'nt', 'a', 'vn'] as keyword args. From version 0.25 passing these as positional arguments will result in an error\n",
      "  warnings.warn(\"Pass {} as keyword args. From version 0.25 \"\n"
     ]
    },
    {
     "data": {
      "text/plain": "<Figure size 432x288 with 2 Axes>",
      "image/png": "[encoded data removed]"
     },
     "metadata": {
      "needs_background": "light"
     },
     "output_type": "display_data"
    },
    {
     "data": {
      "text/plain": "<Figure size 432x288 with 2 Axes>",
      "image/png": "[encoded data removed]"
     },
     "metadata": {
      "needs_background": "light"
     },
     "output_type": "display_data"
    }
   ],
   "source": [
    "PosTagDemo()"
   ]
  },
  {
   "cell_type": "markdown",
   "metadata": {},
   "source": [
    "## 三、命名实体识别\n",
    "本项目主要针对人名(nr)、地名(ns)、机构名(nt)进行识别\n",
    "\n",
    "使用了HMM和CRF++两种算法"
   ]
  },
  {
   "cell_type": "markdown",
   "metadata": {},
   "source": [
    "### 3.1 单句NER调用接口\n",
    "输入一个预分词字符串，打印NER结果"
   ]
  },
  {
   "cell_type": "code",
   "execution_count": 19,
   "metadata": {},
   "outputs": [],
   "source": [
    "#预分词字符串\n",
    "s = '联合国 总部 在 美国 纽约 ， 在 瑞士 日内瓦 、 奥地利 维也纳 、 肯尼亚 内罗毕 、 泰国 曼谷 、 埃塞俄比亚 亚的斯亚贝巴 、 黎巴嫩 贝鲁特 、 智利 圣地亚哥 设 有 办事处 ， 首席 行政 长官 是 联合国 秘书长 ， 现 由 安东尼 古特雷斯 担任 。'"
   ]
  },
  {
   "cell_type": "code",
   "execution_count": 20,
   "metadata": {},
   "outputs": [
    {
     "name": "stdout",
     "output_type": "stream",
     "text": [
      "\n",
      "人名: 埃塞俄比亚亚的斯亚贝巴  \n",
      "地名: 黎巴嫩  瑞士日内瓦  智利圣地亚哥  泰国  肯尼亚内罗毕  美国纽约  奥地利维也纳  \n",
      "机构名: 联合国  联合国  "
     ]
    }
   ],
   "source": [
    "#CRF++\n",
    "NER(s,mode='CRF')"
   ]
  },
  {
   "cell_type": "code",
   "execution_count": 21,
   "metadata": {},
   "outputs": [
    {
     "name": "stdout",
     "output_type": "stream",
     "text": [
      "\n",
      "人名: \n",
      "地名: 埃塞俄比亚  瑞士日内瓦  智利圣地亚哥  黎巴嫩贝鲁特  肯尼亚内罗毕  泰国曼谷  美国纽约  奥地利维也纳  \n",
      "机构名: 联合国  联合国  "
     ]
    }
   ],
   "source": [
    "#HMM\n",
    "NER(s,mode='HMM')"
   ]
  },
  {
   "cell_type": "markdown",
   "metadata": {},
   "source": [
    "### 3.2批量识别调用接口\n",
    "输入一个文本文件，输出NER结果，保存在txt文件中\n",
    "\n",
    "分词结果请在路径./result/NER下的相关文件中查看"
   ]
  },
  {
   "cell_type": "code",
   "execution_count": 22,
   "metadata": {},
   "outputs": [],
   "source": [
    "#预分词文本文件所在路径，此处使用逆向最大匹配算法的分词结果\n",
    "path = './corpus/segment/RMMSegment.txt'"
   ]
  },
  {
   "cell_type": "code",
   "execution_count": 23,
   "metadata": {},
   "outputs": [],
   "source": [
    "#CRF++\n",
    "out = './result/NER/CRFNERout.txt'\n",
    "BatchNER(mode='CRF', path=path, outpath=out)"
   ]
  },
  {
   "cell_type": "code",
   "execution_count": 24,
   "metadata": {},
   "outputs": [],
   "source": [
    "#HMM\n",
    "out = './result/NER/HMMNERout.txt'\n",
    "BatchNER(mode='HMM', path=path, outpath=out)"
   ]
  },
  {
   "cell_type": "markdown",
   "metadata": {},
   "source": [
    "### 3.3NER算法性能测评\n",
    "默认测评文本文件仍为/corpus/segment/RMMsegment"
   ]
  },
  {
   "cell_type": "code",
   "execution_count": 25,
   "metadata": {},
   "outputs": [
    {
     "name": "stdout",
     "output_type": "stream",
     "text": [
      "Using CRF\n",
      "对于人名实体的识别准确率为:81.67680865449628% ,召回率为63.47871781397792% ,F1-measure=71.43701951507983% \n",
      "对于地名实体的识别准确率为:91.15367077063384 ,召回率为64.07051282051283 ,F1-measure=75.24938829286654% \n",
      "对于机构名实体的识别准确率为:96.88888888888889 ,召回率为56.770833333333336 ,F1-measure=71.5927750410509% \n"
     ]
    }
   ],
   "source": [
    "print('Using CRF')\n",
    "DemoCRFNER()"
   ]
  },
  {
   "cell_type": "code",
   "execution_count": 26,
   "metadata": {},
   "outputs": [
    {
     "name": "stdout",
     "output_type": "stream",
     "text": [
      "Using HMM\n",
      "对于人名实体的识别准确率为:59.709009513150534% ,召回率为56.06936416184971% ,F1-measure=57.8319783197832% \n",
      "对于地名实体的识别准确率为:90.76923076923077 ,召回率为68.07692307692308 ,F1-measure=77.80219780219781% \n",
      "对于机构名实体的识别准确率为:96.9298245614035 ,召回率为57.552083333333336 ,F1-measure=72.22222222222221% \n"
     ]
    }
   ],
   "source": [
    "print('Using HMM')\n",
    "DemoHMMNER()"
   ]
  },
  {
   "cell_type": "code",
   "execution_count": 26,
   "metadata": {
    "pycharm": {
     "name": "#%%\n"
    }
   },
   "outputs": [],
   "source": []
  }
 ],
 "metadata": {
  "kernelspec": {
   "display_name": "Python 3",
   "language": "python",
   "name": "python3"
  },
  "language_info": {
   "codemirror_mode": {
    "name": "ipython",
    "version": 3
   },
   "file_extension": ".py",
   "mimetype": "text/x-python",
   "name": "python",
   "nbconvert_exporter": "python",
   "pygments_lexer": "ipython3",
   "version": "3.8.3"
  }
 },
 "nbformat": 4,
 "nbformat_minor": 4
}